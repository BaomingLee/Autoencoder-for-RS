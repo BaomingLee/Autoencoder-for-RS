{
  "nbformat": 4,
  "nbformat_minor": 0,
  "metadata": {
    "colab": {
      "name": "Autoencoder.ipynb",
      "version": "0.3.2",
      "provenance": [],
      "collapsed_sections": [],
      "include_colab_link": true
    },
    "kernelspec": {
      "name": "python3",
      "display_name": "Python 3"
    },
    "accelerator": "GPU"
  },
  "cells": [
    {
      "cell_type": "markdown",
      "metadata": {
        "id": "view-in-github",
        "colab_type": "text"
      },
      "source": [
        "<a href=\"https://colab.research.google.com/github/BaomingLee/Autoencoder-for-RS/blob/master/Autoencoder.ipynb\" target=\"_parent\"><img src=\"https://colab.research.google.com/assets/colab-badge.svg\" alt=\"Open In Colab\"/></a>"
      ]
    },
    {
      "cell_type": "markdown",
      "metadata": {
        "id": "qqKiUSwd-YZM",
        "colab_type": "text"
      },
      "source": [
        "# **Autoencoder**"
      ]
    },
    {
      "cell_type": "code",
      "metadata": {
        "id": "OITPhue2ZlHy",
        "colab_type": "code",
        "outputId": "3229159f-c642-4a6b-bb73-b7295e50d0a8",
        "colab": {
          "base_uri": "https://localhost:8080/",
          "height": 136
        }
      },
      "source": [
        "!git clone https://github.com/BaomingLee/Autoencoder-for-RS.git"
      ],
      "execution_count": 1,
      "outputs": [
        {
          "output_type": "stream",
          "text": [
            "Cloning into 'Autoencoder-for-RS'...\n",
            "remote: Enumerating objects: 220, done.\u001b[K\n",
            "remote: Counting objects: 100% (220/220), done.\u001b[K\n",
            "remote: Compressing objects: 100% (74/74), done.\u001b[K\n",
            "remote: Total 220 (delta 145), reused 212 (delta 140), pack-reused 0\u001b[K\n",
            "Receiving objects: 100% (220/220), 37.25 MiB | 3.01 MiB/s, done.\n",
            "Resolving deltas: 100% (145/145), done.\n"
          ],
          "name": "stdout"
        }
      ]
    },
    {
      "cell_type": "code",
      "metadata": {
        "id": "WMxl1DQ5clIV",
        "colab_type": "code",
        "outputId": "cfd73198-025b-45f8-89d4-1eb982d6bf11",
        "colab": {
          "base_uri": "https://localhost:8080/",
          "height": 122
        }
      },
      "source": [
        "! python /content/Autoencoder-for-RS/Deep-Autoencoders-For-Collaborative-Filtering/src/data/tf_record_writer.py"
      ],
      "execution_count": 2,
      "outputs": [
        {
          "output_type": "stream",
          "text": [
            "WARNING: Logging before flag parsing goes to stderr.\n",
            "W0804 18:43:36.835769 140480094840704 deprecation_wrapper.py:119] From /content/Autoencoder-for-RS/Deep-Autoencoders-For-Collaborative-Filtering/src/data/tf_record_writer.py:64: The name tf.python_io.TFRecordWriter is deprecated. Please use tf.io.TFRecordWriter instead.\n",
            "\n",
            ">> Converting sample 4337/4337\n",
            "Finished converting the dataset!\n"
          ],
          "name": "stdout"
        }
      ]
    },
    {
      "cell_type": "code",
      "metadata": {
        "id": "FNZybUzwdM4K",
        "colab_type": "code",
        "outputId": "edea4780-27c3-4f4e-a9a1-c46330f0de1a",
        "colab": {
          "base_uri": "https://localhost:8080/",
          "height": 326
        }
      },
      "source": [
        "! python /content/Autoencoder-for-RS/Deep-Autoencoders-For-Collaborative-Filtering/src/training.py"
      ],
      "execution_count": 3,
      "outputs": [
        {
          "output_type": "stream",
          "text": [
            "WARNING: Logging before flag parsing goes to stderr.\n",
            "W0804 18:44:12.924297 140477788047232 deprecation_wrapper.py:119] From /content/Autoencoder-for-RS/Deep-Autoencoders-For-Collaborative-Filtering/src/training.py:113: The name tf.app.run is deprecated. Please use tf.compat.v1.app.run instead.\n",
            "\n",
            "Traceback (most recent call last):\n",
            "  File \"/content/Autoencoder-for-RS/Deep-Autoencoders-For-Collaborative-Filtering/src/training.py\", line 113, in <module>\n",
            "    tf.app.run()\n",
            "  File \"/usr/local/lib/python3.6/dist-packages/tensorflow/python/platform/app.py\", line 40, in run\n",
            "    _run(main=main, argv=argv, flags_parser=_parse_flags_tolerate_undef)\n",
            "  File \"/usr/local/lib/python3.6/dist-packages/absl/app.py\", line 300, in run\n",
            "    _run_main(main, args)\n",
            "  File \"/usr/local/lib/python3.6/dist-packages/absl/app.py\", line 251, in _run_main\n",
            "    sys.exit(main(argv))\n",
            "  File \"/content/Autoencoder-for-RS/Deep-Autoencoders-For-Collaborative-Filtering/src/training.py\", line 58, in main\n",
            "    train_data, train_data_infer=_get_training_data(FLAGS)\n",
            "  File \"/content/Autoencoder-for-RS/Deep-Autoencoders-For-Collaborative-Filtering/src/data/dataset.py\", line 11, in _get_training_data\n",
            "    filenames=[FLAGS.tf_records_train_path+'/'+f for f in os.listdir(FLAGS.tf_records_train_path)]\n",
            "FileNotFoundError: [Errno 2] No such file or directory: '/data/tf_records/train'\n"
          ],
          "name": "stdout"
        }
      ]
    },
    {
      "cell_type": "code",
      "metadata": {
        "id": "kjuIt1fR-XSm",
        "colab_type": "code",
        "colab": {}
      },
      "source": [
        ""
      ],
      "execution_count": 0,
      "outputs": []
    },
    {
      "cell_type": "code",
      "metadata": {
        "id": "_Quz1v9WeUPN",
        "colab_type": "code",
        "colab": {}
      },
      "source": [
        ""
      ],
      "execution_count": 0,
      "outputs": []
    }
  ]
}