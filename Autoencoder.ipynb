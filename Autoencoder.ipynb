{
  "nbformat": 4,
  "nbformat_minor": 0,
  "metadata": {
    "colab": {
      "name": "Autoencoder.ipynb",
      "version": "0.3.2",
      "provenance": [],
      "collapsed_sections": [],
      "include_colab_link": true
    },
    "kernelspec": {
      "name": "python3",
      "display_name": "Python 3"
    },
    "accelerator": "GPU"
  },
  "cells": [
    {
      "cell_type": "markdown",
      "metadata": {
        "id": "view-in-github",
        "colab_type": "text"
      },
      "source": [
        "<a href=\"https://colab.research.google.com/github/BaomingLee/Autoencoder-for-RS/blob/master/Autoencoder.ipynb\" target=\"_parent\"><img src=\"https://colab.research.google.com/assets/colab-badge.svg\" alt=\"Open In Colab\"/></a>"
      ]
    },
    {
      "cell_type": "markdown",
      "metadata": {
        "id": "qqKiUSwd-YZM",
        "colab_type": "text"
      },
      "source": [
        "# **Autoencoder**"
      ]
    },
    {
      "cell_type": "code",
      "metadata": {
        "id": "OITPhue2ZlHy",
        "colab_type": "code",
        "outputId": "3b20da68-d1a0-4a34-e544-9fab597cf06a",
        "colab": {
          "base_uri": "https://localhost:8080/",
          "height": 136
        }
      },
      "source": [
        "!git clone https://github.com/BaomingLee/Autoencoder-for-RS.git"
      ],
      "execution_count": 1,
      "outputs": [
        {
          "output_type": "stream",
          "text": [
            "Cloning into 'Autoencoder-for-RS'...\n",
            "remote: Enumerating objects: 248, done.\u001b[K\n",
            "remote: Counting objects: 100% (248/248), done.\u001b[K\n",
            "remote: Compressing objects: 100% (101/101), done.\u001b[K\n",
            "remote: Total 248 (delta 163), reused 220 (delta 141), pack-reused 0\u001b[K\n",
            "Receiving objects: 100% (248/248), 37.25 MiB | 36.86 MiB/s, done.\n",
            "Resolving deltas: 100% (163/163), done.\n"
          ],
          "name": "stdout"
        }
      ]
    },
    {
      "cell_type": "code",
      "metadata": {
        "id": "SEfq2kfzL4h3",
        "colab_type": "code",
        "colab": {
          "base_uri": "https://localhost:8080/",
          "height": 34
        },
        "outputId": "e1da16ad-c433-4deb-98da-989ce1420dc3"
      },
      "source": [
        "!git init"
      ],
      "execution_count": 8,
      "outputs": [
        {
          "output_type": "stream",
          "text": [
            "Initialized empty Git repository in /content/.git/\n"
          ],
          "name": "stdout"
        }
      ]
    },
    {
      "cell_type": "code",
      "metadata": {
        "id": "0hqlaEAHHoPF",
        "colab_type": "code",
        "colab": {
          "base_uri": "https://localhost:8080/",
          "height": 493
        },
        "outputId": "f67a422d-69dc-4dbf-a144-86045dcbf257"
      },
      "source": [
        "!git pull https://github.com/BaomingLee/Autoencoder-for-RS.git"
      ],
      "execution_count": 13,
      "outputs": [
        {
          "output_type": "stream",
          "text": [
            "remote: Enumerating objects: 15, done.\u001b[K\n",
            "remote: Counting objects:   6% (1/15)   \u001b[K\rremote: Counting objects:  13% (2/15)   \u001b[K\rremote: Counting objects:  20% (3/15)   \u001b[K\rremote: Counting objects:  26% (4/15)   \u001b[K\rremote: Counting objects:  33% (5/15)   \u001b[K\rremote: Counting objects:  40% (6/15)   \u001b[K\rremote: Counting objects:  46% (7/15)   \u001b[K\rremote: Counting objects:  53% (8/15)   \u001b[K\rremote: Counting objects:  60% (9/15)   \u001b[K\rremote: Counting objects:  66% (10/15)   \u001b[K\rremote: Counting objects:  73% (11/15)   \u001b[K\rremote: Counting objects:  80% (12/15)   \u001b[K\rremote: Counting objects:  86% (13/15)   \u001b[K\rremote: Counting objects:  93% (14/15)   \u001b[K\rremote: Counting objects: 100% (15/15)   \u001b[K\rremote: Counting objects: 100% (15/15), done.\u001b[K\n",
            "remote: Compressing objects: 100% (1/1)   \u001b[K\rremote: Compressing objects: 100% (1/1), done.\u001b[K\n",
            "remote: Total 8 (delta 6), reused 8 (delta 6), pack-reused 0\u001b[K\n",
            "Unpacking objects:  12% (1/8)   \rUnpacking objects:  25% (2/8)   \rUnpacking objects:  37% (3/8)   \rUnpacking objects:  50% (4/8)   \rUnpacking objects:  62% (5/8)   \rUnpacking objects:  75% (6/8)   \rUnpacking objects:  87% (7/8)   \rUnpacking objects: 100% (8/8)   \rUnpacking objects: 100% (8/8), done.\n",
            "From https://github.com/BaomingLee/Autoencoder-for-RS\n",
            " * branch            HEAD       -> FETCH_HEAD\n",
            "Updating 4edf248..84e7f11\n",
            "Fast-forward\n",
            " Deep-Autoencoders-For-Collaborative-Filtering/.DS_Store | Bin \u001b[31m8196\u001b[m -> \u001b[32m0\u001b[m bytes\n",
            " .../data/.DS_Store                                      | Bin \u001b[31m6148\u001b[m -> \u001b[32m0\u001b[m bytes\n",
            " .../data/tf_records/.DS_Store                           | Bin \u001b[31m8196\u001b[m -> \u001b[32m0\u001b[m bytes\n",
            " .../data/tf_records/test/.DS_Store                      | Bin \u001b[31m6148\u001b[m -> \u001b[32m0\u001b[m bytes\n",
            " .../data/tf_records/train/.DS_Store                     | Bin \u001b[31m10244\u001b[m -> \u001b[32m0\u001b[m bytes\n",
            " .../src/.DS_Store                                       | Bin \u001b[31m8196\u001b[m -> \u001b[32m0\u001b[m bytes\n",
            " .../src/__pycache__/.DS_Store                           | Bin \u001b[31m8196\u001b[m -> \u001b[32m0\u001b[m bytes\n",
            " .../src/data/.DS_Store                                  | Bin \u001b[31m6148\u001b[m -> \u001b[32m0\u001b[m bytes\n",
            " .../src/model/.DS_Store                                 | Bin \u001b[31m6148\u001b[m -> \u001b[32m0\u001b[m bytes\n",
            " 9 files changed, 0 insertions(+), 0 deletions(-)\n",
            " delete mode 100644 Deep-Autoencoders-For-Collaborative-Filtering/.DS_Store\n",
            " delete mode 100644 Deep-Autoencoders-For-Collaborative-Filtering/data/.DS_Store\n",
            " delete mode 100644 Deep-Autoencoders-For-Collaborative-Filtering/data/tf_records/.DS_Store\n",
            " delete mode 100644 Deep-Autoencoders-For-Collaborative-Filtering/data/tf_records/test/.DS_Store\n",
            " delete mode 100644 Deep-Autoencoders-For-Collaborative-Filtering/data/tf_records/train/.DS_Store\n",
            " delete mode 100644 Deep-Autoencoders-For-Collaborative-Filtering/src/.DS_Store\n",
            " delete mode 100644 Deep-Autoencoders-For-Collaborative-Filtering/src/__pycache__/.DS_Store\n",
            " delete mode 100644 Deep-Autoencoders-For-Collaborative-Filtering/src/data/.DS_Store\n",
            " delete mode 100644 Deep-Autoencoders-For-Collaborative-Filtering/src/model/.DS_Store\n"
          ],
          "name": "stdout"
        }
      ]
    },
    {
      "cell_type": "code",
      "metadata": {
        "id": "WMxl1DQ5clIV",
        "colab_type": "code",
        "outputId": "ad1df6cd-57fd-4556-d642-d4c9b992fcd4",
        "colab": {
          "base_uri": "https://localhost:8080/",
          "height": 122
        }
      },
      "source": [
        "! python /content/Deep-Autoencoders-For-Collaborative-Filtering/src/data/tf_record_writer.py"
      ],
      "execution_count": 11,
      "outputs": [
        {
          "output_type": "stream",
          "text": [
            "WARNING: Logging before flag parsing goes to stderr.\n",
            "W0804 19:53:12.391797 140418864117632 deprecation_wrapper.py:119] From /content/Deep-Autoencoders-For-Collaborative-Filtering/src/data/tf_record_writer.py:64: The name tf.python_io.TFRecordWriter is deprecated. Please use tf.io.TFRecordWriter instead.\n",
            "\n",
            ">> Converting sample 4337/4337\n",
            "Finished converting the dataset!\n"
          ],
          "name": "stdout"
        }
      ]
    },
    {
      "cell_type": "code",
      "metadata": {
        "id": "FNZybUzwdM4K",
        "colab_type": "code",
        "outputId": "5e5c8652-4319-4468-c908-45f3c6f27316",
        "colab": {
          "base_uri": "https://localhost:8080/",
          "height": 1000
        }
      },
      "source": [
        "! python /content/Deep-Autoencoders-For-Collaborative-Filtering/src/training.py"
      ],
      "execution_count": 14,
      "outputs": [
        {
          "output_type": "stream",
          "text": [
            "WARNING: Logging before flag parsing goes to stderr.\n",
            "W0804 20:08:08.361361 140684383795072 deprecation_wrapper.py:119] From /content/Deep-Autoencoders-For-Collaborative-Filtering/src/training.py:113: The name tf.app.run is deprecated. Please use tf.compat.v1.app.run instead.\n",
            "\n",
            "W0804 20:08:08.390726 140684383795072 deprecation_wrapper.py:119] From /content/Deep-Autoencoders-For-Collaborative-Filtering/src/data/dataset.py:48: The name tf.FixedLenFeature is deprecated. Please use tf.io.FixedLenFeature instead.\n",
            "\n",
            "W0804 20:08:08.390933 140684383795072 deprecation_wrapper.py:119] From /content/Deep-Autoencoders-For-Collaborative-Filtering/src/data/dataset.py:50: The name tf.parse_single_example is deprecated. Please use tf.io.parse_single_example instead.\n",
            "\n",
            "W0804 20:08:08.516614 140684383795072 deprecation.py:323] From /content/Deep-Autoencoders-For-Collaborative-Filtering/src/training.py:61: DatasetV1.make_initializable_iterator (from tensorflow.python.data.ops.dataset_ops) is deprecated and will be removed in a future version.\n",
            "Instructions for updating:\n",
            "Use `for ... in dataset:` to iterate over a dataset. If using `tf.estimator`, return the `Dataset` object directly from your input function. As a last resort, you can use `tf.compat.v1.data.make_initializable_iterator(dataset)`.\n",
            "W0804 20:08:08.531513 140684383795072 deprecation_wrapper.py:119] From /content/Deep-Autoencoders-For-Collaborative-Filtering/src/model/base_model.py:16: The name tf.get_variable is deprecated. Please use tf.compat.v1.get_variable instead.\n",
            "\n",
            "W0804 20:08:08.573344 140684383795072 deprecation.py:323] From /content/Deep-Autoencoders-For-Collaborative-Filtering/src/model/train_model.py:65: add_dispatch_support.<locals>.wrapper (from tensorflow.python.ops.array_ops) is deprecated and will be removed in a future version.\n",
            "Instructions for updating:\n",
            "Use tf.where in 2.0, which has the same broadcast rule as np.where\n",
            "W0804 20:08:08.581580 140684383795072 deprecation.py:323] From /content/Deep-Autoencoders-For-Collaborative-Filtering/src/model/train_model.py:26: div (from tensorflow.python.ops.math_ops) is deprecated and will be removed in a future version.\n",
            "Instructions for updating:\n",
            "Deprecated in favor of operator or tf.math.divide.\n",
            "W0804 20:08:08.582418 140684383795072 deprecation_wrapper.py:119] From /content/Deep-Autoencoders-For-Collaborative-Filtering/src/model/train_model.py:76: The name tf.train.AdamOptimizer is deprecated. Please use tf.compat.v1.train.AdamOptimizer instead.\n",
            "\n",
            "W0804 20:08:08.738423 140684383795072 deprecation_wrapper.py:119] From /content/Deep-Autoencoders-For-Collaborative-Filtering/src/training.py:74: The name tf.train.Saver is deprecated. Please use tf.compat.v1.train.Saver instead.\n",
            "\n",
            "W0804 20:08:08.762127 140684383795072 deprecation_wrapper.py:119] From /content/Deep-Autoencoders-For-Collaborative-Filtering/src/training.py:76: The name tf.Session is deprecated. Please use tf.compat.v1.Session instead.\n",
            "\n",
            "2019-08-04 20:08:08.763450: I tensorflow/stream_executor/platform/default/dso_loader.cc:42] Successfully opened dynamic library libcuda.so.1\n",
            "2019-08-04 20:08:08.807742: I tensorflow/stream_executor/cuda/cuda_gpu_executor.cc:1005] successful NUMA node read from SysFS had negative value (-1), but there must be at least one NUMA node, so returning NUMA node zero\n",
            "2019-08-04 20:08:08.808139: I tensorflow/core/common_runtime/gpu/gpu_device.cc:1640] Found device 0 with properties: \n",
            "name: Tesla T4 major: 7 minor: 5 memoryClockRate(GHz): 1.59\n",
            "pciBusID: 0000:00:04.0\n",
            "2019-08-04 20:08:08.808410: I tensorflow/stream_executor/platform/default/dso_loader.cc:42] Successfully opened dynamic library libcudart.so.10.0\n",
            "2019-08-04 20:08:08.809963: I tensorflow/stream_executor/platform/default/dso_loader.cc:42] Successfully opened dynamic library libcublas.so.10.0\n",
            "2019-08-04 20:08:08.811139: I tensorflow/stream_executor/platform/default/dso_loader.cc:42] Successfully opened dynamic library libcufft.so.10.0\n",
            "2019-08-04 20:08:08.811492: I tensorflow/stream_executor/platform/default/dso_loader.cc:42] Successfully opened dynamic library libcurand.so.10.0\n",
            "2019-08-04 20:08:08.813189: I tensorflow/stream_executor/platform/default/dso_loader.cc:42] Successfully opened dynamic library libcusolver.so.10.0\n",
            "2019-08-04 20:08:08.814395: I tensorflow/stream_executor/platform/default/dso_loader.cc:42] Successfully opened dynamic library libcusparse.so.10.0\n",
            "2019-08-04 20:08:08.818058: I tensorflow/stream_executor/platform/default/dso_loader.cc:42] Successfully opened dynamic library libcudnn.so.7\n",
            "2019-08-04 20:08:08.818189: I tensorflow/stream_executor/cuda/cuda_gpu_executor.cc:1005] successful NUMA node read from SysFS had negative value (-1), but there must be at least one NUMA node, so returning NUMA node zero\n",
            "2019-08-04 20:08:08.818636: I tensorflow/stream_executor/cuda/cuda_gpu_executor.cc:1005] successful NUMA node read from SysFS had negative value (-1), but there must be at least one NUMA node, so returning NUMA node zero\n",
            "2019-08-04 20:08:08.818986: I tensorflow/core/common_runtime/gpu/gpu_device.cc:1763] Adding visible gpu devices: 0\n",
            "2019-08-04 20:08:08.824357: I tensorflow/core/platform/profile_utils/cpu_utils.cc:94] CPU Frequency: 2300000000 Hz\n",
            "2019-08-04 20:08:08.824536: I tensorflow/compiler/xla/service/service.cc:168] XLA service 0x1564bc0 executing computations on platform Host. Devices:\n",
            "2019-08-04 20:08:08.824562: I tensorflow/compiler/xla/service/service.cc:175]   StreamExecutor device (0): <undefined>, <undefined>\n",
            "2019-08-04 20:08:08.953134: I tensorflow/stream_executor/cuda/cuda_gpu_executor.cc:1005] successful NUMA node read from SysFS had negative value (-1), but there must be at least one NUMA node, so returning NUMA node zero\n",
            "2019-08-04 20:08:08.953643: I tensorflow/compiler/xla/service/service.cc:168] XLA service 0x1564d80 executing computations on platform CUDA. Devices:\n",
            "2019-08-04 20:08:08.953671: I tensorflow/compiler/xla/service/service.cc:175]   StreamExecutor device (0): Tesla T4, Compute Capability 7.5\n",
            "2019-08-04 20:08:08.953883: I tensorflow/stream_executor/cuda/cuda_gpu_executor.cc:1005] successful NUMA node read from SysFS had negative value (-1), but there must be at least one NUMA node, so returning NUMA node zero\n",
            "2019-08-04 20:08:08.954247: I tensorflow/core/common_runtime/gpu/gpu_device.cc:1640] Found device 0 with properties: \n",
            "name: Tesla T4 major: 7 minor: 5 memoryClockRate(GHz): 1.59\n",
            "pciBusID: 0000:00:04.0\n",
            "2019-08-04 20:08:08.954311: I tensorflow/stream_executor/platform/default/dso_loader.cc:42] Successfully opened dynamic library libcudart.so.10.0\n",
            "2019-08-04 20:08:08.954341: I tensorflow/stream_executor/platform/default/dso_loader.cc:42] Successfully opened dynamic library libcublas.so.10.0\n",
            "2019-08-04 20:08:08.954362: I tensorflow/stream_executor/platform/default/dso_loader.cc:42] Successfully opened dynamic library libcufft.so.10.0\n",
            "2019-08-04 20:08:08.954381: I tensorflow/stream_executor/platform/default/dso_loader.cc:42] Successfully opened dynamic library libcurand.so.10.0\n",
            "2019-08-04 20:08:08.954401: I tensorflow/stream_executor/platform/default/dso_loader.cc:42] Successfully opened dynamic library libcusolver.so.10.0\n",
            "2019-08-04 20:08:08.954420: I tensorflow/stream_executor/platform/default/dso_loader.cc:42] Successfully opened dynamic library libcusparse.so.10.0\n",
            "2019-08-04 20:08:08.954441: I tensorflow/stream_executor/platform/default/dso_loader.cc:42] Successfully opened dynamic library libcudnn.so.7\n",
            "2019-08-04 20:08:08.954523: I tensorflow/stream_executor/cuda/cuda_gpu_executor.cc:1005] successful NUMA node read from SysFS had negative value (-1), but there must be at least one NUMA node, so returning NUMA node zero\n",
            "2019-08-04 20:08:08.954907: I tensorflow/stream_executor/cuda/cuda_gpu_executor.cc:1005] successful NUMA node read from SysFS had negative value (-1), but there must be at least one NUMA node, so returning NUMA node zero\n",
            "2019-08-04 20:08:08.955240: I tensorflow/core/common_runtime/gpu/gpu_device.cc:1763] Adding visible gpu devices: 0\n",
            "2019-08-04 20:08:08.955294: I tensorflow/stream_executor/platform/default/dso_loader.cc:42] Successfully opened dynamic library libcudart.so.10.0\n",
            "2019-08-04 20:08:08.956155: I tensorflow/core/common_runtime/gpu/gpu_device.cc:1181] Device interconnect StreamExecutor with strength 1 edge matrix:\n",
            "2019-08-04 20:08:08.956178: I tensorflow/core/common_runtime/gpu/gpu_device.cc:1187]      0 \n",
            "2019-08-04 20:08:08.956210: I tensorflow/core/common_runtime/gpu/gpu_device.cc:1200] 0:   N \n",
            "2019-08-04 20:08:08.956509: I tensorflow/stream_executor/cuda/cuda_gpu_executor.cc:1005] successful NUMA node read from SysFS had negative value (-1), but there must be at least one NUMA node, so returning NUMA node zero\n",
            "2019-08-04 20:08:08.956900: I tensorflow/stream_executor/cuda/cuda_gpu_executor.cc:1005] successful NUMA node read from SysFS had negative value (-1), but there must be at least one NUMA node, so returning NUMA node zero\n",
            "2019-08-04 20:08:08.957241: W tensorflow/core/common_runtime/gpu/gpu_bfc_allocator.cc:40] Overriding allow_growth setting because the TF_FORCE_GPU_ALLOW_GROWTH environment variable is set. Original config value was 0.\n",
            "2019-08-04 20:08:08.957281: I tensorflow/core/common_runtime/gpu/gpu_device.cc:1326] Created TensorFlow device (/job:localhost/replica:0/task:0/device:GPU:0 with 14202 MB memory) -> physical GPU (device: 0, name: Tesla T4, pci bus id: 0000:00:04.0, compute capability: 7.5)\n",
            "W0804 20:08:08.957852 140684383795072 deprecation_wrapper.py:119] From /content/Deep-Autoencoders-For-Collaborative-Filtering/src/training.py:78: The name tf.global_variables_initializer is deprecated. Please use tf.compat.v1.global_variables_initializer instead.\n",
            "\n",
            "2019-08-04 20:08:09.586686: W tensorflow/compiler/jit/mark_for_compilation_pass.cc:1412] (One-time warning): Not using XLA:CPU for cluster because envvar TF_XLA_FLAGS=--tf_xla_cpu_global_jit was not set.  If you want XLA:CPU, either set that envvar, or use experimental_jit_scope to enable XLA:CPU.  To confirm that XLA is active, pass --vmodule=xla_compilation_cache=1 (as a proper command-line flag, not via TF_XLA_FLAGS) or set the envvar XLA_FLAGS=--xla_hlo_profile.\n",
            "2019-08-04 20:08:09.662081: I tensorflow/stream_executor/platform/default/dso_loader.cc:42] Successfully opened dynamic library libcublas.so.10.0\n",
            "epoch_nr: 0, train_loss: 1.402, test_loss: 0.964, mean_abs_error: 0.794\n",
            "epoch_nr: 1, train_loss: 0.995, test_loss: 0.951, mean_abs_error: 0.785\n",
            "epoch_nr: 2, train_loss: 0.989, test_loss: 0.951, mean_abs_error: 0.785\n",
            "epoch_nr: 3, train_loss: 0.982, test_loss: 0.955, mean_abs_error: 0.787\n",
            "epoch_nr: 4, train_loss: 0.968, test_loss: 0.963, mean_abs_error: 0.795\n",
            "epoch_nr: 5, train_loss: 0.947, test_loss: 0.974, mean_abs_error: 0.806\n",
            "epoch_nr: 6, train_loss: 0.928, test_loss: 0.986, mean_abs_error: 0.817\n",
            "epoch_nr: 7, train_loss: 0.914, test_loss: 0.996, mean_abs_error: 0.824\n",
            "epoch_nr: 8, train_loss: 0.906, test_loss: 1.002, mean_abs_error: 0.827\n",
            "epoch_nr: 9, train_loss: 0.900, test_loss: 1.017, mean_abs_error: 0.851\n",
            "epoch_nr: 10, train_loss: 0.894, test_loss: 1.022, mean_abs_error: 0.854\n",
            "epoch_nr: 11, train_loss: 0.887, test_loss: 1.022, mean_abs_error: 0.844\n",
            "epoch_nr: 12, train_loss: 0.881, test_loss: 1.035, mean_abs_error: 0.851\n",
            "epoch_nr: 13, train_loss: 0.878, test_loss: 1.029, mean_abs_error: 0.854\n",
            "epoch_nr: 14, train_loss: 0.874, test_loss: 1.063, mean_abs_error: 0.895\n",
            "epoch_nr: 15, train_loss: 0.866, test_loss: 1.102, mean_abs_error: 0.934\n",
            "epoch_nr: 16, train_loss: 0.858, test_loss: 1.104, mean_abs_error: 0.934\n",
            "epoch_nr: 17, train_loss: 0.850, test_loss: 1.085, mean_abs_error: 0.913\n",
            "epoch_nr: 18, train_loss: 0.842, test_loss: 1.069, mean_abs_error: 0.893\n",
            "epoch_nr: 19, train_loss: 0.837, test_loss: 1.064, mean_abs_error: 0.885\n",
            "epoch_nr: 20, train_loss: 0.832, test_loss: 1.068, mean_abs_error: 0.886\n",
            "epoch_nr: 21, train_loss: 0.827, test_loss: 1.079, mean_abs_error: 0.899\n",
            "epoch_nr: 22, train_loss: 0.820, test_loss: 1.098, mean_abs_error: 0.921\n",
            "epoch_nr: 23, train_loss: 0.814, test_loss: 1.124, mean_abs_error: 0.947\n",
            "epoch_nr: 24, train_loss: 0.807, test_loss: 1.143, mean_abs_error: 0.966\n",
            "epoch_nr: 25, train_loss: 0.801, test_loss: 1.148, mean_abs_error: 0.969\n",
            "epoch_nr: 26, train_loss: 0.796, test_loss: 1.131, mean_abs_error: 0.950\n",
            "epoch_nr: 27, train_loss: 0.792, test_loss: 1.114, mean_abs_error: 0.931\n",
            "epoch_nr: 28, train_loss: 0.789, test_loss: 1.115, mean_abs_error: 0.930\n",
            "epoch_nr: 29, train_loss: 0.784, test_loss: 1.124, mean_abs_error: 0.940\n",
            "epoch_nr: 30, train_loss: 0.781, test_loss: 1.123, mean_abs_error: 0.937\n",
            "epoch_nr: 31, train_loss: 0.777, test_loss: 1.117, mean_abs_error: 0.927\n",
            "epoch_nr: 32, train_loss: 0.772, test_loss: 1.113, mean_abs_error: 0.919\n",
            "epoch_nr: 33, train_loss: 0.768, test_loss: 1.112, mean_abs_error: 0.916\n",
            "Traceback (most recent call last):\n",
            "  File \"/content/Deep-Autoencoders-For-Collaborative-Filtering/src/training.py\", line 113, in <module>\n",
            "    tf.app.run()\n",
            "  File \"/usr/local/lib/python3.6/dist-packages/tensorflow/python/platform/app.py\", line 40, in run\n",
            "    _run(main=main, argv=argv, flags_parser=_parse_flags_tolerate_undef)\n",
            "  File \"/usr/local/lib/python3.6/dist-packages/absl/app.py\", line 300, in run\n",
            "    _run_main(main, args)\n",
            "  File \"/usr/local/lib/python3.6/dist-packages/absl/app.py\", line 251, in _run_main\n",
            "    sys.exit(main(argv))\n",
            "  File \"/content/Deep-Autoencoders-For-Collaborative-Filtering/src/training.py\", line 96, in main\n",
            "    pred, labels_, loss_, mae_=sess.run((prediction, labels, test_loss_op,mae_ops))\n",
            "  File \"/usr/local/lib/python3.6/dist-packages/tensorflow/python/client/session.py\", line 950, in run\n",
            "    run_metadata_ptr)\n",
            "  File \"/usr/local/lib/python3.6/dist-packages/tensorflow/python/client/session.py\", line 1173, in _run\n",
            "    feed_dict_tensor, options, run_metadata)\n",
            "  File \"/usr/local/lib/python3.6/dist-packages/tensorflow/python/client/session.py\", line 1350, in _do_run\n",
            "    run_metadata)\n",
            "  File \"/usr/local/lib/python3.6/dist-packages/tensorflow/python/client/session.py\", line 1356, in _do_call\n",
            "    return fn(*args)\n",
            "  File \"/usr/local/lib/python3.6/dist-packages/tensorflow/python/client/session.py\", line 1341, in _run_fn\n",
            "    options, feed_dict, fetch_list, target_list, run_metadata)\n",
            "  File \"/usr/local/lib/python3.6/dist-packages/tensorflow/python/client/session.py\", line 1429, in _call_tf_sessionrun\n",
            "    run_metadata)\n",
            "KeyboardInterrupt\n"
          ],
          "name": "stdout"
        }
      ]
    },
    {
      "cell_type": "code",
      "metadata": {
        "id": "kjuIt1fR-XSm",
        "colab_type": "code",
        "colab": {}
      },
      "source": [
        ""
      ],
      "execution_count": 0,
      "outputs": []
    },
    {
      "cell_type": "code",
      "metadata": {
        "id": "_Quz1v9WeUPN",
        "colab_type": "code",
        "colab": {}
      },
      "source": [
        ""
      ],
      "execution_count": 0,
      "outputs": []
    }
  ]
}