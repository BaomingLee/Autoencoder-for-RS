{
  "nbformat": 4,
  "nbformat_minor": 0,
  "metadata": {
    "colab": {
      "name": "Autoencoder.ipynb",
      "version": "0.3.2",
      "provenance": [],
      "collapsed_sections": [],
      "toc_visible": true
    },
    "kernelspec": {
      "name": "python3",
      "display_name": "Python 3"
    },
    "accelerator": "GPU"
  },
  "cells": [
    {
      "cell_type": "markdown",
      "metadata": {
        "id": "qqKiUSwd-YZM",
        "colab_type": "text"
      },
      "source": [
        "# **Autoencoder**"
      ]
    },
    {
      "cell_type": "code",
      "metadata": {
        "id": "OITPhue2ZlHy",
        "colab_type": "code",
        "colab": {}
      },
      "source": [
        "!git clone https://github.com/BaomingLee/Autoencoder-for-RS.git"
      ],
      "execution_count": 0,
      "outputs": []
    },
    {
      "cell_type": "code",
      "metadata": {
        "id": "SEfq2kfzL4h3",
        "colab_type": "code",
        "colab": {}
      },
      "source": [
        "!git init"
      ],
      "execution_count": 0,
      "outputs": []
    },
    {
      "cell_type": "code",
      "metadata": {
        "id": "0hqlaEAHHoPF",
        "colab_type": "code",
        "colab": {}
      },
      "source": [
        "!git pull https://github.com/BaomingLee/Autoencoder-for-RS.git"
      ],
      "execution_count": 0,
      "outputs": []
    },
    {
      "cell_type": "code",
      "metadata": {
        "id": "LeNpUFeFZ9nQ",
        "colab_type": "code",
        "colab": {}
      },
      "source": [
        "! python /content/\\(ml_100k\\)Deep-Autoencoders-For-Collaborative-Filtering/src/training.py"
      ],
      "execution_count": 0,
      "outputs": []
    },
    {
      "cell_type": "code",
      "metadata": {
        "id": "qHZq9oCXO8zR",
        "colab_type": "code",
        "colab": {}
      },
      "source": [
        "! python /content/\\(ml_1m\\)Deep-Autoencoders-For-Collaborative-Filtering/src/training.py"
      ],
      "execution_count": 0,
      "outputs": []
    }
  ]
}